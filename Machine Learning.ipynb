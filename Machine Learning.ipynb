{
 "cells": [
  {
   "cell_type": "markdown",
   "metadata": {},
   "source": [
    "# Preprocessing data"
   ]
  },
  {
   "cell_type": "code",
   "execution_count": 1,
   "metadata": {},
   "outputs": [],
   "source": [
    "import pandas as pd\n",
    "import numpy as np\n",
    "import matplotlib.pyplot as plt"
   ]
  },
  {
   "cell_type": "code",
   "execution_count": 2,
   "metadata": {},
   "outputs": [],
   "source": [
    "# 為了處理方便，把 'train.csv' 和 'test.csv' 合併起來，'test.csv'的 Weather 欄位用 0 補起來。\n",
    "df = pd.read_csv('train.csv')\n",
    "df_test = pd.read_csv('test.csv')\n",
    "df_test['Weather'] = np.zeros((len(df_test),))                                                                                                                              \n",
    "\n",
    "# 以 train_end_idx 作為 'train.csv' 和 'test.csv' 分界列，\n",
    "train_end_idx = len(df)\n",
    "df = pd.concat([df, df_test], sort=False)"
   ]
  },
  {
   "cell_type": "code",
   "execution_count": 3,
   "metadata": {},
   "outputs": [],
   "source": [
    "# fill up missing values to median\n",
    "df = df.fillna(value=df.mean())"
   ]
  },
  {
   "cell_type": "code",
   "execution_count": 4,
   "metadata": {},
   "outputs": [],
   "source": [
    "# convert non-numerical to numerical\n",
    "from sklearn.preprocessing import LabelEncoder \n",
    "le = LabelEncoder()\n",
    "\n",
    "df['Date'] = df['Date'].astype(str)\n",
    "df['Loc'] = df['Loc'].astype(str)\n",
    "df['WindDir']= df['WindDir'].astype(str)\n",
    "df['DayWindDir'] = df['DayWindDir'].astype(str)\n",
    "df['NightWindDir'] = df['NightWindDir'].astype(str)\n",
    "\n",
    "df['Date'] = le.fit_transform(df['Date'])\n",
    "df['Loc'] = le.fit_transform(df['Loc'])\n",
    "df['WindDir'] = le.fit_transform(df['WindDir'])\n",
    "df['DayWindDir'] = le.fit_transform(df['DayWindDir'])\n",
    "df['NightWindDir'] = le.fit_transform(df['NightWindDir'])"
   ]
  },
  {
   "cell_type": "code",
   "execution_count": 5,
   "metadata": {},
   "outputs": [
    {
     "data": {
      "text/plain": [
       "Date                int64\n",
       "Loc                 int64\n",
       "TempLow           float64\n",
       "TempHigh          float64\n",
       "Steaming          float64\n",
       "Sun               float64\n",
       "WindDir             int64\n",
       "WindSpeed         float64\n",
       "DayWindDir          int64\n",
       "NightWindDir        int64\n",
       "DayWindSpeed      float64\n",
       "NightWindSpeed    float64\n",
       "DayHumidity       float64\n",
       "NightHumidity     float64\n",
       "DayPressure       float64\n",
       "NightPressure     float64\n",
       "DayCloud          float64\n",
       "NightCloud        float64\n",
       "DayTemp           float64\n",
       "NightTemp         float64\n",
       "Weather           float64\n",
       "RISK_MM           float64\n",
       "dtype: object"
      ]
     },
     "execution_count": 5,
     "metadata": {},
     "output_type": "execute_result"
    }
   ],
   "source": [
    "# check data types\n",
    "df.dtypes"
   ]
  },
  {
   "cell_type": "code",
   "execution_count": 6,
   "metadata": {},
   "outputs": [
    {
     "data": {
      "text/html": [
       "<div>\n",
       "<style scoped>\n",
       "    .dataframe tbody tr th:only-of-type {\n",
       "        vertical-align: middle;\n",
       "    }\n",
       "\n",
       "    .dataframe tbody tr th {\n",
       "        vertical-align: top;\n",
       "    }\n",
       "\n",
       "    .dataframe thead th {\n",
       "        text-align: right;\n",
       "    }\n",
       "</style>\n",
       "<table border=\"1\" class=\"dataframe\">\n",
       "  <thead>\n",
       "    <tr style=\"text-align: right;\">\n",
       "      <th></th>\n",
       "      <th>TempLow</th>\n",
       "      <th>TempHigh</th>\n",
       "      <th>Steaming</th>\n",
       "      <th>Sun</th>\n",
       "      <th>WindDir</th>\n",
       "      <th>WindSpeed</th>\n",
       "      <th>DayWindDir</th>\n",
       "      <th>NightWindDir</th>\n",
       "      <th>DayWindSpeed</th>\n",
       "      <th>NightWindSpeed</th>\n",
       "      <th>DayHumidity</th>\n",
       "      <th>NightHumidity</th>\n",
       "      <th>DayPressure</th>\n",
       "      <th>NightPressure</th>\n",
       "      <th>DayCloud</th>\n",
       "      <th>NightCloud</th>\n",
       "      <th>DayTemp</th>\n",
       "      <th>NightTemp</th>\n",
       "      <th>Weather</th>\n",
       "      <th>RISK_MM</th>\n",
       "    </tr>\n",
       "  </thead>\n",
       "  <tbody>\n",
       "    <tr>\n",
       "      <th>0</th>\n",
       "      <td>19.500000</td>\n",
       "      <td>23.741634</td>\n",
       "      <td>5.694960</td>\n",
       "      <td>0.500000</td>\n",
       "      <td>1</td>\n",
       "      <td>61.000000</td>\n",
       "      <td>1</td>\n",
       "      <td>1</td>\n",
       "      <td>31.000000</td>\n",
       "      <td>22.000000</td>\n",
       "      <td>86.641375</td>\n",
       "      <td>41.810006</td>\n",
       "      <td>1020.400000</td>\n",
       "      <td>1021.90000</td>\n",
       "      <td>4.154681</td>\n",
       "      <td>7.00000</td>\n",
       "      <td>17.190022</td>\n",
       "      <td>19.600000</td>\n",
       "      <td>0.0</td>\n",
       "      <td>1.772145</td>\n",
       "    </tr>\n",
       "    <tr>\n",
       "      <th>1</th>\n",
       "      <td>2.100000</td>\n",
       "      <td>15.700000</td>\n",
       "      <td>5.701668</td>\n",
       "      <td>5.700000</td>\n",
       "      <td>0</td>\n",
       "      <td>26.000000</td>\n",
       "      <td>16</td>\n",
       "      <td>9</td>\n",
       "      <td>9.000000</td>\n",
       "      <td>7.000000</td>\n",
       "      <td>53.275715</td>\n",
       "      <td>76.598048</td>\n",
       "      <td>1023.700000</td>\n",
       "      <td>1020.80000</td>\n",
       "      <td>4.000000</td>\n",
       "      <td>1.00000</td>\n",
       "      <td>9.000000</td>\n",
       "      <td>14.100000</td>\n",
       "      <td>0.0</td>\n",
       "      <td>0.000000</td>\n",
       "    </tr>\n",
       "    <tr>\n",
       "      <th>2</th>\n",
       "      <td>20.900000</td>\n",
       "      <td>36.100000</td>\n",
       "      <td>5.694960</td>\n",
       "      <td>8.003251</td>\n",
       "      <td>8</td>\n",
       "      <td>39.000000</td>\n",
       "      <td>8</td>\n",
       "      <td>12</td>\n",
       "      <td>31.000000</td>\n",
       "      <td>17.000000</td>\n",
       "      <td>15.471574</td>\n",
       "      <td>52.163254</td>\n",
       "      <td>1017.100000</td>\n",
       "      <td>1014.90000</td>\n",
       "      <td>4.167266</td>\n",
       "      <td>4.27812</td>\n",
       "      <td>24.200000</td>\n",
       "      <td>33.900000</td>\n",
       "      <td>0.0</td>\n",
       "      <td>0.000000</td>\n",
       "    </tr>\n",
       "    <tr>\n",
       "      <th>3</th>\n",
       "      <td>11.500000</td>\n",
       "      <td>23.900000</td>\n",
       "      <td>5.694960</td>\n",
       "      <td>7.993227</td>\n",
       "      <td>5</td>\n",
       "      <td>35.000000</td>\n",
       "      <td>13</td>\n",
       "      <td>16</td>\n",
       "      <td>7.000000</td>\n",
       "      <td>17.000000</td>\n",
       "      <td>46.442398</td>\n",
       "      <td>67.664733</td>\n",
       "      <td>1010.200000</td>\n",
       "      <td>1015.47264</td>\n",
       "      <td>4.167266</td>\n",
       "      <td>4.27812</td>\n",
       "      <td>13.800000</td>\n",
       "      <td>21.800000</td>\n",
       "      <td>1.0</td>\n",
       "      <td>0.200000</td>\n",
       "    </tr>\n",
       "    <tr>\n",
       "      <th>4</th>\n",
       "      <td>8.200000</td>\n",
       "      <td>20.500000</td>\n",
       "      <td>3.200000</td>\n",
       "      <td>8.003251</td>\n",
       "      <td>3</td>\n",
       "      <td>69.000000</td>\n",
       "      <td>3</td>\n",
       "      <td>14</td>\n",
       "      <td>13.739091</td>\n",
       "      <td>18.424823</td>\n",
       "      <td>51.830889</td>\n",
       "      <td>51.770240</td>\n",
       "      <td>1018.043992</td>\n",
       "      <td>1001.20000</td>\n",
       "      <td>7.000000</td>\n",
       "      <td>7.00000</td>\n",
       "      <td>17.190022</td>\n",
       "      <td>17.600000</td>\n",
       "      <td>0.0</td>\n",
       "      <td>0.600000</td>\n",
       "    </tr>\n",
       "    <tr>\n",
       "      <th>5</th>\n",
       "      <td>9.700000</td>\n",
       "      <td>24.100000</td>\n",
       "      <td>5.694960</td>\n",
       "      <td>8.003251</td>\n",
       "      <td>4</td>\n",
       "      <td>31.000000</td>\n",
       "      <td>9</td>\n",
       "      <td>0</td>\n",
       "      <td>11.000000</td>\n",
       "      <td>19.000000</td>\n",
       "      <td>49.816899</td>\n",
       "      <td>58.470225</td>\n",
       "      <td>1022.900000</td>\n",
       "      <td>1015.47264</td>\n",
       "      <td>4.167266</td>\n",
       "      <td>4.27812</td>\n",
       "      <td>17.800000</td>\n",
       "      <td>23.200000</td>\n",
       "      <td>0.0</td>\n",
       "      <td>0.000000</td>\n",
       "    </tr>\n",
       "    <tr>\n",
       "      <th>6</th>\n",
       "      <td>6.000000</td>\n",
       "      <td>12.800000</td>\n",
       "      <td>1.000000</td>\n",
       "      <td>7.400000</td>\n",
       "      <td>15</td>\n",
       "      <td>39.366587</td>\n",
       "      <td>15</td>\n",
       "      <td>13</td>\n",
       "      <td>28.000000</td>\n",
       "      <td>26.000000</td>\n",
       "      <td>70.879656</td>\n",
       "      <td>59.672191</td>\n",
       "      <td>1029.400000</td>\n",
       "      <td>1030.30000</td>\n",
       "      <td>4.154681</td>\n",
       "      <td>4.00000</td>\n",
       "      <td>17.190022</td>\n",
       "      <td>22.169457</td>\n",
       "      <td>1.0</td>\n",
       "      <td>2.400000</td>\n",
       "    </tr>\n",
       "    <tr>\n",
       "      <th>7</th>\n",
       "      <td>7.100000</td>\n",
       "      <td>15.500000</td>\n",
       "      <td>2.400000</td>\n",
       "      <td>7.993227</td>\n",
       "      <td>16</td>\n",
       "      <td>35.000000</td>\n",
       "      <td>11</td>\n",
       "      <td>8</td>\n",
       "      <td>15.000000</td>\n",
       "      <td>13.000000</td>\n",
       "      <td>39.138422</td>\n",
       "      <td>68.123428</td>\n",
       "      <td>1024.000000</td>\n",
       "      <td>1015.47264</td>\n",
       "      <td>1.000000</td>\n",
       "      <td>4.00000</td>\n",
       "      <td>9.600000</td>\n",
       "      <td>14.800000</td>\n",
       "      <td>0.0</td>\n",
       "      <td>0.000000</td>\n",
       "    </tr>\n",
       "    <tr>\n",
       "      <th>8</th>\n",
       "      <td>16.500000</td>\n",
       "      <td>25.400000</td>\n",
       "      <td>5.694960</td>\n",
       "      <td>7.993227</td>\n",
       "      <td>5</td>\n",
       "      <td>39.366587</td>\n",
       "      <td>5</td>\n",
       "      <td>4</td>\n",
       "      <td>26.000000</td>\n",
       "      <td>18.424823</td>\n",
       "      <td>63.983249</td>\n",
       "      <td>60.008262</td>\n",
       "      <td>1004.700000</td>\n",
       "      <td>1000.80000</td>\n",
       "      <td>4.167266</td>\n",
       "      <td>4.27812</td>\n",
       "      <td>18.900000</td>\n",
       "      <td>21.700000</td>\n",
       "      <td>0.0</td>\n",
       "      <td>0.000000</td>\n",
       "    </tr>\n",
       "    <tr>\n",
       "      <th>9</th>\n",
       "      <td>12.110114</td>\n",
       "      <td>13.800000</td>\n",
       "      <td>4.700000</td>\n",
       "      <td>5.200000</td>\n",
       "      <td>16</td>\n",
       "      <td>65.000000</td>\n",
       "      <td>13</td>\n",
       "      <td>15</td>\n",
       "      <td>28.000000</td>\n",
       "      <td>33.000000</td>\n",
       "      <td>58.973981</td>\n",
       "      <td>68.960339</td>\n",
       "      <td>1014.800000</td>\n",
       "      <td>1015.47264</td>\n",
       "      <td>4.154681</td>\n",
       "      <td>4.27812</td>\n",
       "      <td>10.100000</td>\n",
       "      <td>12.000000</td>\n",
       "      <td>1.0</td>\n",
       "      <td>3.000000</td>\n",
       "    </tr>\n",
       "  </tbody>\n",
       "</table>\n",
       "</div>"
      ],
      "text/plain": [
       "     TempLow   TempHigh  Steaming       Sun  WindDir  WindSpeed  DayWindDir  \\\n",
       "0  19.500000  23.741634  5.694960  0.500000        1  61.000000           1   \n",
       "1   2.100000  15.700000  5.701668  5.700000        0  26.000000          16   \n",
       "2  20.900000  36.100000  5.694960  8.003251        8  39.000000           8   \n",
       "3  11.500000  23.900000  5.694960  7.993227        5  35.000000          13   \n",
       "4   8.200000  20.500000  3.200000  8.003251        3  69.000000           3   \n",
       "5   9.700000  24.100000  5.694960  8.003251        4  31.000000           9   \n",
       "6   6.000000  12.800000  1.000000  7.400000       15  39.366587          15   \n",
       "7   7.100000  15.500000  2.400000  7.993227       16  35.000000          11   \n",
       "8  16.500000  25.400000  5.694960  7.993227        5  39.366587           5   \n",
       "9  12.110114  13.800000  4.700000  5.200000       16  65.000000          13   \n",
       "\n",
       "   NightWindDir  DayWindSpeed  NightWindSpeed  DayHumidity  NightHumidity  \\\n",
       "0             1     31.000000       22.000000    86.641375      41.810006   \n",
       "1             9      9.000000        7.000000    53.275715      76.598048   \n",
       "2            12     31.000000       17.000000    15.471574      52.163254   \n",
       "3            16      7.000000       17.000000    46.442398      67.664733   \n",
       "4            14     13.739091       18.424823    51.830889      51.770240   \n",
       "5             0     11.000000       19.000000    49.816899      58.470225   \n",
       "6            13     28.000000       26.000000    70.879656      59.672191   \n",
       "7             8     15.000000       13.000000    39.138422      68.123428   \n",
       "8             4     26.000000       18.424823    63.983249      60.008262   \n",
       "9            15     28.000000       33.000000    58.973981      68.960339   \n",
       "\n",
       "   DayPressure  NightPressure  DayCloud  NightCloud    DayTemp  NightTemp  \\\n",
       "0  1020.400000     1021.90000  4.154681     7.00000  17.190022  19.600000   \n",
       "1  1023.700000     1020.80000  4.000000     1.00000   9.000000  14.100000   \n",
       "2  1017.100000     1014.90000  4.167266     4.27812  24.200000  33.900000   \n",
       "3  1010.200000     1015.47264  4.167266     4.27812  13.800000  21.800000   \n",
       "4  1018.043992     1001.20000  7.000000     7.00000  17.190022  17.600000   \n",
       "5  1022.900000     1015.47264  4.167266     4.27812  17.800000  23.200000   \n",
       "6  1029.400000     1030.30000  4.154681     4.00000  17.190022  22.169457   \n",
       "7  1024.000000     1015.47264  1.000000     4.00000   9.600000  14.800000   \n",
       "8  1004.700000     1000.80000  4.167266     4.27812  18.900000  21.700000   \n",
       "9  1014.800000     1015.47264  4.154681     4.27812  10.100000  12.000000   \n",
       "\n",
       "   Weather   RISK_MM  \n",
       "0      0.0  1.772145  \n",
       "1      0.0  0.000000  \n",
       "2      0.0  0.000000  \n",
       "3      1.0  0.200000  \n",
       "4      0.0  0.600000  \n",
       "5      0.0  0.000000  \n",
       "6      1.0  2.400000  \n",
       "7      0.0  0.000000  \n",
       "8      0.0  0.000000  \n",
       "9      1.0  3.000000  "
      ]
     },
     "execution_count": 6,
     "metadata": {},
     "output_type": "execute_result"
    }
   ],
   "source": [
    "# drop unnecessay data\n",
    "df = df.drop(columns=[\"Date\",\"Loc\"])\n",
    "\n",
    "df.head(10)"
   ]
  },
  {
   "cell_type": "code",
   "execution_count": 7,
   "metadata": {
    "scrolled": true
   },
   "outputs": [
    {
     "data": {
      "image/png": "[encoded data removed]",
      "text/plain": [
       "<Figure size 432x288 with 1 Axes>"
      ]
     },
     "metadata": {
      "needs_background": "light"
     },
     "output_type": "display_data"
    }
   ],
   "source": [
    "# check imbalance problem\n",
    "ax = df['Weather'].value_counts().plot(kind = 'bar')\n",
    "\n",
    "for i in ax.patches:\n",
    "    ax.text(i.get_x() + 0.18, i.get_height() + 700, str(round(i.get_height(), 2)), fontsize=10)"
   ]
  },
  {
   "cell_type": "markdown",
   "metadata": {},
   "source": [
    "# Create validation data (Standardize, Eliminate imbalance data)"
   ]
  },
  {
   "cell_type": "code",
   "execution_count": 8,
   "metadata": {},
   "outputs": [
    {
     "data": {
      "text/html": [
       "<div>\n",
       "<style scoped>\n",
       "    .dataframe tbody tr th:only-of-type {\n",
       "        vertical-align: middle;\n",
       "    }\n",
       "\n",
       "    .dataframe tbody tr th {\n",
       "        vertical-align: top;\n",
       "    }\n",
       "\n",
       "    .dataframe thead th {\n",
       "        text-align: right;\n",
       "    }\n",
       "</style>\n",
       "<table border=\"1\" class=\"dataframe\">\n",
       "  <thead>\n",
       "    <tr style=\"text-align: right;\">\n",
       "      <th></th>\n",
       "      <th>Date</th>\n",
       "      <th>Loc</th>\n",
       "      <th>TempLow</th>\n",
       "      <th>TempHigh</th>\n",
       "      <th>Steaming</th>\n",
       "      <th>Sun</th>\n",
       "      <th>WindDir</th>\n",
       "      <th>WindSpeed</th>\n",
       "      <th>DayWindDir</th>\n",
       "      <th>NightWindDir</th>\n",
       "      <th>...</th>\n",
       "      <th>DayHumidity</th>\n",
       "      <th>NightHumidity</th>\n",
       "      <th>DayPressure</th>\n",
       "      <th>NightPressure</th>\n",
       "      <th>DayCloud</th>\n",
       "      <th>NightCloud</th>\n",
       "      <th>DayTemp</th>\n",
       "      <th>NightTemp</th>\n",
       "      <th>RISK_MM</th>\n",
       "      <th>Weather</th>\n",
       "    </tr>\n",
       "  </thead>\n",
       "  <tbody>\n",
       "    <tr>\n",
       "      <th>0</th>\n",
       "      <td>2016/7/22</td>\n",
       "      <td>Ballarat</td>\n",
       "      <td>6.9</td>\n",
       "      <td>23.5</td>\n",
       "      <td>5.69496</td>\n",
       "      <td>NaN</td>\n",
       "      <td>N</td>\n",
       "      <td>41.00000</td>\n",
       "      <td>NNE</td>\n",
       "      <td>N</td>\n",
       "      <td>...</td>\n",
       "      <td>43.950026</td>\n",
       "      <td>NaN</td>\n",
       "      <td>1028.00000</td>\n",
       "      <td>1025.100000</td>\n",
       "      <td>1.000000</td>\n",
       "      <td>NaN</td>\n",
       "      <td>16.70000</td>\n",
       "      <td>NaN</td>\n",
       "      <td>0.0</td>\n",
       "      <td>0.0</td>\n",
       "    </tr>\n",
       "    <tr>\n",
       "      <th>1</th>\n",
       "      <td>NaN</td>\n",
       "      <td>SalmonGums</td>\n",
       "      <td>4.2</td>\n",
       "      <td>21.5</td>\n",
       "      <td>5.69496</td>\n",
       "      <td>7.993227</td>\n",
       "      <td>WNW</td>\n",
       "      <td>35.00000</td>\n",
       "      <td>NaN</td>\n",
       "      <td>NaN</td>\n",
       "      <td>...</td>\n",
       "      <td>34.682783</td>\n",
       "      <td>63.653409</td>\n",
       "      <td>1018.03427</td>\n",
       "      <td>1015.465952</td>\n",
       "      <td>4.167266</td>\n",
       "      <td>4.27812</td>\n",
       "      <td>13.80000</td>\n",
       "      <td>20.900000</td>\n",
       "      <td>NaN</td>\n",
       "      <td>0.0</td>\n",
       "    </tr>\n",
       "    <tr>\n",
       "      <th>2</th>\n",
       "      <td>NaN</td>\n",
       "      <td>AliceSprings</td>\n",
       "      <td>24.4</td>\n",
       "      <td>39.6</td>\n",
       "      <td>14.60000</td>\n",
       "      <td>NaN</td>\n",
       "      <td>SSE</td>\n",
       "      <td>44.00000</td>\n",
       "      <td>SSW</td>\n",
       "      <td>NaN</td>\n",
       "      <td>...</td>\n",
       "      <td>9.820135</td>\n",
       "      <td>45.476982</td>\n",
       "      <td>1014.10000</td>\n",
       "      <td>1010.400000</td>\n",
       "      <td>0.000000</td>\n",
       "      <td>2.00000</td>\n",
       "      <td>31.50000</td>\n",
       "      <td>38.000000</td>\n",
       "      <td>0.0</td>\n",
       "      <td>0.0</td>\n",
       "    </tr>\n",
       "    <tr>\n",
       "      <th>3</th>\n",
       "      <td>2012/7/30</td>\n",
       "      <td>Launceston</td>\n",
       "      <td>10.8</td>\n",
       "      <td>21.5</td>\n",
       "      <td>5.69496</td>\n",
       "      <td>7.993227</td>\n",
       "      <td>WNW</td>\n",
       "      <td>39.00000</td>\n",
       "      <td>SSE</td>\n",
       "      <td>NaN</td>\n",
       "      <td>...</td>\n",
       "      <td>49.095435</td>\n",
       "      <td>48.865800</td>\n",
       "      <td>NaN</td>\n",
       "      <td>1021.000000</td>\n",
       "      <td>NaN</td>\n",
       "      <td>NaN</td>\n",
       "      <td>NaN</td>\n",
       "      <td>19.900000</td>\n",
       "      <td>NaN</td>\n",
       "      <td>0.0</td>\n",
       "    </tr>\n",
       "    <tr>\n",
       "      <th>4</th>\n",
       "      <td>NaN</td>\n",
       "      <td>Darwin</td>\n",
       "      <td>27.3</td>\n",
       "      <td>NaN</td>\n",
       "      <td>4.40000</td>\n",
       "      <td>3.500000</td>\n",
       "      <td>NW</td>\n",
       "      <td>28.00000</td>\n",
       "      <td>SW</td>\n",
       "      <td>NW</td>\n",
       "      <td>...</td>\n",
       "      <td>66.034683</td>\n",
       "      <td>64.548346</td>\n",
       "      <td>1012.80000</td>\n",
       "      <td>1008.200000</td>\n",
       "      <td>7.000000</td>\n",
       "      <td>7.00000</td>\n",
       "      <td>29.30000</td>\n",
       "      <td>32.000000</td>\n",
       "      <td>1.6</td>\n",
       "      <td>0.0</td>\n",
       "    </tr>\n",
       "    <tr>\n",
       "      <th>5</th>\n",
       "      <td>2014/2/10</td>\n",
       "      <td>Newcastle</td>\n",
       "      <td>NaN</td>\n",
       "      <td>NaN</td>\n",
       "      <td>5.69496</td>\n",
       "      <td>7.993227</td>\n",
       "      <td>NaN</td>\n",
       "      <td>39.38315</td>\n",
       "      <td>NaN</td>\n",
       "      <td>NaN</td>\n",
       "      <td>...</td>\n",
       "      <td>53.412785</td>\n",
       "      <td>69.079704</td>\n",
       "      <td>NaN</td>\n",
       "      <td>1015.465952</td>\n",
       "      <td>7.000000</td>\n",
       "      <td>4.27812</td>\n",
       "      <td>15.80000</td>\n",
       "      <td>22.157059</td>\n",
       "      <td>0.0</td>\n",
       "      <td>0.0</td>\n",
       "    </tr>\n",
       "    <tr>\n",
       "      <th>6</th>\n",
       "      <td>2016/8/22</td>\n",
       "      <td>Bendigo</td>\n",
       "      <td>3.1</td>\n",
       "      <td>12.2</td>\n",
       "      <td>NaN</td>\n",
       "      <td>7.993227</td>\n",
       "      <td>W</td>\n",
       "      <td>NaN</td>\n",
       "      <td>WNW</td>\n",
       "      <td>W</td>\n",
       "      <td>...</td>\n",
       "      <td>51.498261</td>\n",
       "      <td>NaN</td>\n",
       "      <td>1019.10000</td>\n",
       "      <td>1017.900000</td>\n",
       "      <td>7.000000</td>\n",
       "      <td>NaN</td>\n",
       "      <td>6.50000</td>\n",
       "      <td>11.700000</td>\n",
       "      <td>0.0</td>\n",
       "      <td>0.0</td>\n",
       "    </tr>\n",
       "    <tr>\n",
       "      <th>7</th>\n",
       "      <td>2012/5/1</td>\n",
       "      <td>Albury</td>\n",
       "      <td>NaN</td>\n",
       "      <td>27.9</td>\n",
       "      <td>5.69496</td>\n",
       "      <td>NaN</td>\n",
       "      <td>W</td>\n",
       "      <td>NaN</td>\n",
       "      <td>NaN</td>\n",
       "      <td>NaN</td>\n",
       "      <td>...</td>\n",
       "      <td>48.567788</td>\n",
       "      <td>60.805572</td>\n",
       "      <td>NaN</td>\n",
       "      <td>1015.000000</td>\n",
       "      <td>NaN</td>\n",
       "      <td>5.00000</td>\n",
       "      <td>16.80000</td>\n",
       "      <td>23.900000</td>\n",
       "      <td>NaN</td>\n",
       "      <td>0.0</td>\n",
       "    </tr>\n",
       "    <tr>\n",
       "      <th>8</th>\n",
       "      <td>NaN</td>\n",
       "      <td>MountGinini</td>\n",
       "      <td>8.2</td>\n",
       "      <td>14.5</td>\n",
       "      <td>5.69496</td>\n",
       "      <td>NaN</td>\n",
       "      <td>W</td>\n",
       "      <td>NaN</td>\n",
       "      <td>NaN</td>\n",
       "      <td>WNW</td>\n",
       "      <td>...</td>\n",
       "      <td>NaN</td>\n",
       "      <td>36.638441</td>\n",
       "      <td>1018.03427</td>\n",
       "      <td>1015.465952</td>\n",
       "      <td>4.167266</td>\n",
       "      <td>4.27812</td>\n",
       "      <td>17.16263</td>\n",
       "      <td>12.500000</td>\n",
       "      <td>13.6</td>\n",
       "      <td>0.0</td>\n",
       "    </tr>\n",
       "    <tr>\n",
       "      <th>9</th>\n",
       "      <td>2016/6/16</td>\n",
       "      <td>NaN</td>\n",
       "      <td>10.6</td>\n",
       "      <td>27.6</td>\n",
       "      <td>NaN</td>\n",
       "      <td>10.800000</td>\n",
       "      <td>W</td>\n",
       "      <td>24.00000</td>\n",
       "      <td>NaN</td>\n",
       "      <td>SW</td>\n",
       "      <td>...</td>\n",
       "      <td>29.829395</td>\n",
       "      <td>NaN</td>\n",
       "      <td>NaN</td>\n",
       "      <td>1020.500000</td>\n",
       "      <td>4.167266</td>\n",
       "      <td>4.27812</td>\n",
       "      <td>20.20000</td>\n",
       "      <td>26.300000</td>\n",
       "      <td>0.0</td>\n",
       "      <td>0.0</td>\n",
       "    </tr>\n",
       "  </tbody>\n",
       "</table>\n",
       "<p>10 rows × 22 columns</p>\n",
       "</div>"
      ],
      "text/plain": [
       "        Date           Loc  TempLow  TempHigh  Steaming        Sun WindDir  \\\n",
       "0  2016/7/22      Ballarat      6.9      23.5   5.69496        NaN       N   \n",
       "1        NaN    SalmonGums      4.2      21.5   5.69496   7.993227     WNW   \n",
       "2        NaN  AliceSprings     24.4      39.6  14.60000        NaN     SSE   \n",
       "3  2012/7/30    Launceston     10.8      21.5   5.69496   7.993227     WNW   \n",
       "4        NaN        Darwin     27.3       NaN   4.40000   3.500000      NW   \n",
       "5  2014/2/10     Newcastle      NaN       NaN   5.69496   7.993227     NaN   \n",
       "6  2016/8/22       Bendigo      3.1      12.2       NaN   7.993227       W   \n",
       "7   2012/5/1        Albury      NaN      27.9   5.69496        NaN       W   \n",
       "8        NaN   MountGinini      8.2      14.5   5.69496        NaN       W   \n",
       "9  2016/6/16           NaN     10.6      27.6       NaN  10.800000       W   \n",
       "\n",
       "   WindSpeed DayWindDir NightWindDir  ...  DayHumidity  NightHumidity  \\\n",
       "0   41.00000        NNE            N  ...    43.950026            NaN   \n",
       "1   35.00000        NaN          NaN  ...    34.682783      63.653409   \n",
       "2   44.00000        SSW          NaN  ...     9.820135      45.476982   \n",
       "3   39.00000        SSE          NaN  ...    49.095435      48.865800   \n",
       "4   28.00000         SW           NW  ...    66.034683      64.548346   \n",
       "5   39.38315        NaN          NaN  ...    53.412785      69.079704   \n",
       "6        NaN        WNW            W  ...    51.498261            NaN   \n",
       "7        NaN        NaN          NaN  ...    48.567788      60.805572   \n",
       "8        NaN        NaN          WNW  ...          NaN      36.638441   \n",
       "9   24.00000        NaN           SW  ...    29.829395            NaN   \n",
       "\n",
       "   DayPressure  NightPressure  DayCloud  NightCloud   DayTemp  NightTemp  \\\n",
       "0   1028.00000    1025.100000  1.000000         NaN  16.70000        NaN   \n",
       "1   1018.03427    1015.465952  4.167266     4.27812  13.80000  20.900000   \n",
       "2   1014.10000    1010.400000  0.000000     2.00000  31.50000  38.000000   \n",
       "3          NaN    1021.000000       NaN         NaN       NaN  19.900000   \n",
       "4   1012.80000    1008.200000  7.000000     7.00000  29.30000  32.000000   \n",
       "5          NaN    1015.465952  7.000000     4.27812  15.80000  22.157059   \n",
       "6   1019.10000    1017.900000  7.000000         NaN   6.50000  11.700000   \n",
       "7          NaN    1015.000000       NaN     5.00000  16.80000  23.900000   \n",
       "8   1018.03427    1015.465952  4.167266     4.27812  17.16263  12.500000   \n",
       "9          NaN    1020.500000  4.167266     4.27812  20.20000  26.300000   \n",
       "\n",
       "   RISK_MM  Weather  \n",
       "0      0.0      0.0  \n",
       "1      NaN      0.0  \n",
       "2      0.0      0.0  \n",
       "3      NaN      0.0  \n",
       "4      1.6      0.0  \n",
       "5      0.0      0.0  \n",
       "6      0.0      0.0  \n",
       "7      NaN      0.0  \n",
       "8     13.6      0.0  \n",
       "9      0.0      0.0  \n",
       "\n",
       "[10 rows x 22 columns]"
      ]
     },
     "execution_count": 8,
     "metadata": {},
     "output_type": "execute_result"
    }
   ],
   "source": [
    "# Split validation data from train data\n",
    "from sklearn.model_selection import train_test_split\n",
    "\n",
    "X_train, X_val, y_train, y_val = train_test_split(\n",
    "    df.drop(columns = ['Weather']).values[:train_end_idx, :],\n",
    "    df['Weather'].values[:train_end_idx], test_size=0.25)\n",
    "\n",
    "# Drop 'Weather' from test data\n",
    "X_test = df.drop(columns = ['Weather']).values[train_end_idx:, :]\n",
    "df_test.head(10)"
   ]
  },
  {
   "cell_type": "code",
   "execution_count": 9,
   "metadata": {},
   "outputs": [
    {
     "data": {
      "text/plain": [
       "(26367, 19)"
      ]
     },
     "execution_count": 9,
     "metadata": {},
     "output_type": "execute_result"
    }
   ],
   "source": [
    "# Standardized data X other than weather\n",
    "from sklearn.preprocessing import StandardScaler\n",
    "sc = StandardScaler()\n",
    "sc.fit(X_train)\n",
    "X_train_std = sc.transform(X_train)\n",
    "X_test_std = sc.transform(X_test)\n",
    "X_val_std = sc.transform(X_val)\n",
    "\n",
    "X_train_std.shape"
   ]
  },
  {
   "cell_type": "code",
   "execution_count": 10,
   "metadata": {},
   "outputs": [
    {
     "name": "stdout",
     "output_type": "stream",
     "text": [
      "Collecting package metadata (current_repodata.json): done\n",
      "Solving environment: done\n",
      "\n",
      "# All requested packages already installed.\n",
      "\n",
      "\n",
      "Note: you may need to restart the kernel to use updated packages.\n"
     ]
    }
   ],
   "source": [
    "conda install -c conda-forge imbalanced-learn"
   ]
  },
  {
   "cell_type": "code",
   "execution_count": 11,
   "metadata": {},
   "outputs": [
    {
     "name": "stdout",
     "output_type": "stream",
     "text": [
      "Collecting package metadata (current_repodata.json): done\n",
      "Solving environment: | \n",
      "\n",
      "Updating scikit-learn is constricted by \n",
      "\n",
      "anaconda -> requires scikit-learn==0.22.1=py37h27c97d8_0\n",
      "\n",
      "If you are sure you want an update of your package either try `conda update --all` or install a specific version of the package you want using `conda install <pkg>=<version>`\n",
      "\n",
      "done\n",
      "\n",
      "## Package Plan ##\n",
      "\n",
      "  environment location: /Users/samjanity996/opt/anaconda3\n",
      "\n",
      "  added / updated specs:\n",
      "    - scikit-learn\n",
      "\n",
      "\n",
      "The following packages will be downloaded:\n",
      "\n",
      "    package                    |            build\n",
      "    ---------------------------|-----------------\n",
      "    applaunchservices-0.2.1    |             py_0           8 KB  conda-forge\n",
      "    asn1crypto-1.3.0           |           py37_0         159 KB  conda-forge\n",
      "    attrs-19.3.0               |             py_0          35 KB  conda-forge\n",
      "    backports-1.0              |             py_2           4 KB  conda-forge\n",
      "    backports.functools_lru_cache-1.6.4|     pyhd8ed1ab_0           9 KB  conda-forge\n",
      "    backports.tempfile-1.0     |             py_0          10 KB  conda-forge\n",
      "    backports.weakref-1.0.post1|py37hc8dfbb8_1002           8 KB  conda-forge\n",
      "    bokeh-1.4.0                |           py37_0        13.5 MB  conda-forge\n",
      "    chardet-3.0.4              |        py37_1003         167 KB  conda-forge\n",
      "    conda-package-handling-1.7.3|   py37h271585c_0         1.5 MB  conda-forge\n",
      "    contextlib2-0.6.0.post1    |             py_0          12 KB  conda-forge\n",
      "    flake8-3.7.9               |           py37_0         128 KB  conda-forge\n",
      "    future-0.18.2              |           py37_0         708 KB  conda-forge\n",
      "    glob2-0.7                  |             py_0          11 KB  conda-forge\n",
      "    heapdict-1.0.1             |             py_0           7 KB  conda-forge\n",
      "    imageio-2.6.1              |           py37_0         3.3 MB  conda-forge\n",
      "    imagesize-1.2.0            |             py_0           8 KB  conda-forge\n",
      "    importlib_metadata-1.5.0   |           py37_0          42 KB  conda-forge\n",
      "    intervaltree-3.0.2         |             py_0          23 KB  conda-forge\n",
      "    jdcal-1.4.1                |             py_0           9 KB  conda-forge\n",
      "    jsonschema-3.2.0           |           py37_0          89 KB  conda-forge\n",
      "    jupyter_client-5.3.4       |           py37_0         131 KB  conda-forge\n",
      "    markupsafe-1.1.1           |   py37h1de35cc_0          25 KB  conda-forge\n",
      "    nbconvert-5.6.1            |           py37_0         496 KB  conda-forge\n",
      "    nose-1.3.7                 |           py37_2         214 KB  conda-forge\n",
      "    pathlib2-2.3.5             |           py37_0          34 KB  conda-forge\n",
      "    pathtools-0.1.2            |             py_1           8 KB  conda-forge\n",
      "    pexpect-4.8.0              |           py37_0          79 KB  conda-forge\n",
      "    pip-20.0.2                 |           py37_1         1.9 MB  conda-forge\n",
      "    ptyprocess-0.6.0           |           py37_0          22 KB  conda-forge\n",
      "    pyopenssl-19.1.0           |           py37_0          83 KB  conda-forge\n",
      "    pysocks-1.7.1              |           py37_0          27 KB  conda-forge\n",
      "    pytest-astropy-header-0.1.2|             py_0          10 KB  conda-forge\n",
      "    python-dateutil-2.8.1      |             py_0         220 KB  conda-forge\n",
      "    pytz-2019.3                |             py_0         237 KB  conda-forge\n",
      "    qtpy-1.9.0                 |             py_0          34 KB  conda-forge\n",
      "    requests-2.22.0            |           py37_1          84 KB  conda-forge\n",
      "    six-1.14.0                 |           py37_0          23 KB  conda-forge\n",
      "    sphinxcontrib-jsmath-1.0.1 |             py_0           7 KB  conda-forge\n",
      "    sympy-1.5.1                |           py37_0        10.2 MB  conda-forge\n",
      "    testpath-0.4.4             |             py_0          85 KB  conda-forge\n",
      "    traitlets-4.3.3            |           py37_0         133 KB  conda-forge\n",
      "    wheel-0.34.2               |           py37_0          43 KB  conda-forge\n",
      "    widgetsnbextension-3.5.1   |           py37_0         1.8 MB  conda-forge\n",
      "    xmltodict-0.12.0           |             py_0          11 KB  conda-forge\n",
      "    ------------------------------------------------------------\n",
      "                                           Total:        35.6 MB\n",
      "\n",
      "The following packages will be UPDATED:\n",
      "\n",
      "  backports.weakref  pkgs/main/noarch::backports.weakref-1~ --> conda-forge/osx-64::backports.weakref-1.0.post1-py37hc8dfbb8_1002\n",
      "\n",
      "The following packages will be SUPERSEDED by a higher-priority channel:\n",
      "\n",
      "  applaunchservices                               pkgs/main --> conda-forge\n",
      "  asn1crypto                                      pkgs/main --> conda-forge\n",
      "  attrs                                           pkgs/main --> conda-forge\n",
      "  backports                                       pkgs/main --> conda-forge\n",
      "  backports.functoo~ pkgs/main::backports.functools_lru_ca~ --> conda-forge::backports.functools_lru_cache-1.6.4-pyhd8ed1ab_0\n",
      "  backports.tempfile pkgs/main::backports.tempfile-1.0-pyh~ --> conda-forge::backports.tempfile-1.0-py_0\n",
      "  bokeh                                           pkgs/main --> conda-forge\n",
      "  chardet                                         pkgs/main --> conda-forge\n",
      "  conda-package-han~ pkgs/main::conda-package-handling-1.7~ --> conda-forge::conda-package-handling-1.7.3-py37h271585c_0\n",
      "  contextlib2                                     pkgs/main --> conda-forge\n",
      "  flake8                                          pkgs/main --> conda-forge\n",
      "  future                                          pkgs/main --> conda-forge\n",
      "  glob2                                           pkgs/main --> conda-forge\n",
      "  heapdict                                        pkgs/main --> conda-forge\n",
      "  imageio                                         pkgs/main --> conda-forge\n",
      "  imagesize                                       pkgs/main --> conda-forge\n",
      "  importlib_metadata                              pkgs/main --> conda-forge\n",
      "  intervaltree                                    pkgs/main --> conda-forge\n",
      "  jdcal                                           pkgs/main --> conda-forge\n",
      "  jsonschema                                      pkgs/main --> conda-forge\n",
      "  jupyter_client                                  pkgs/main --> conda-forge\n",
      "  markupsafe                                      pkgs/main --> conda-forge\n",
      "  nbconvert                                       pkgs/main --> conda-forge\n",
      "  nose                                            pkgs/main --> conda-forge\n",
      "  pathlib2                                        pkgs/main --> conda-forge\n",
      "  pathtools                                       pkgs/main --> conda-forge\n",
      "  pexpect                                         pkgs/main --> conda-forge\n",
      "  pip                                             pkgs/main --> conda-forge\n",
      "  ptyprocess                                      pkgs/main --> conda-forge\n",
      "  pyopenssl                                       pkgs/main --> conda-forge\n",
      "  pysocks                                         pkgs/main --> conda-forge\n",
      "  pytest-astropy-he~                              pkgs/main --> conda-forge\n",
      "  python-dateutil                                 pkgs/main --> conda-forge\n",
      "  pytz                                            pkgs/main --> conda-forge\n",
      "  qtpy                                            pkgs/main --> conda-forge\n",
      "  requests                                        pkgs/main --> conda-forge\n",
      "  six                                             pkgs/main --> conda-forge\n",
      "  sphinxcontrib-jsm~                              pkgs/main --> conda-forge\n",
      "  sympy                                           pkgs/main --> conda-forge\n",
      "  testpath                                        pkgs/main --> conda-forge\n",
      "  traitlets                                       pkgs/main --> conda-forge\n",
      "  wheel                                           pkgs/main --> conda-forge\n",
      "  widgetsnbextension                              pkgs/main --> conda-forge\n",
      "  xmltodict                                       pkgs/main --> conda-forge\n",
      "\n",
      "\n",
      "\n",
      "Downloading and Extracting Packages\n",
      "pytest-astropy-heade | 10 KB     | ##################################### | 100% \n"
     ]
    },
    {
     "name": "stdout",
     "output_type": "stream",
     "text": [
      "backports.functools_ | 9 KB      | ##################################### | 100% \n",
      "backports.tempfile-1 | 10 KB     | ##################################### | 100% \n",
      "xmltodict-0.12.0     | 11 KB     | ##################################### | 100% \n",
      "attrs-19.3.0         | 35 KB     | ##################################### | 100% \n",
      "wheel-0.34.2         | 43 KB     | ##################################### | 100% \n",
      "asn1crypto-1.3.0     | 159 KB    | ##################################### | 100% \n",
      "importlib_metadata-1 | 42 KB     | ##################################### | 100% \n",
      "imagesize-1.2.0      | 8 KB      | ##################################### | 100% \n",
      "pexpect-4.8.0        | 79 KB     | ##################################### | 100% \n",
      "python-dateutil-2.8. | 220 KB    | ##################################### | 100% \n",
      "pysocks-1.7.1        | 27 KB     | ##################################### | 100% \n",
      "pyopenssl-19.1.0     | 83 KB     | ##################################### | 100% \n",
      "ptyprocess-0.6.0     | 22 KB     | ##################################### | 100% \n",
      "widgetsnbextension-3 | 1.8 MB    | ##################################### | 100% \n",
      "markupsafe-1.1.1     | 25 KB     | ##################################### | 100% \n",
      "sphinxcontrib-jsmath | 7 KB      | ##################################### | 100% \n",
      "six-1.14.0           | 23 KB     | ##################################### | 100% \n",
      "jupyter_client-5.3.4 | 131 KB    | ##################################### | 100% \n",
      "jdcal-1.4.1          | 9 KB      | ##################################### | 100% \n",
      "conda-package-handli | 1.5 MB    | ##################################### | 100% \n",
      "nbconvert-5.6.1      | 496 KB    | ##################################### | 100% \n",
      "sympy-1.5.1          | 10.2 MB   | ##################################### | 100% \n",
      "imageio-2.6.1        | 3.3 MB    | ##################################### | 100% \n",
      "future-0.18.2        | 708 KB    | ##################################### | 100% \n",
      "bokeh-1.4.0          | 13.5 MB   | ##################################### | 100% \n",
      "backports-1.0        | 4 KB      | ##################################### | 100% \n",
      "contextlib2-0.6.0.po | 12 KB     | ##################################### | 100% \n",
      "traitlets-4.3.3      | 133 KB    | ##################################### | 100% \n",
      "heapdict-1.0.1       | 7 KB      | ##################################### | 100% \n",
      "jsonschema-3.2.0     | 89 KB     | ##################################### | 100% \n",
      "pip-20.0.2           | 1.9 MB    | ##################################### | 100% \n",
      "pathtools-0.1.2      | 8 KB      | ##################################### | 100% \n",
      "applaunchservices-0. | 8 KB      | ##################################### | 100% \n",
      "pathlib2-2.3.5       | 34 KB     | ##################################### | 100% \n",
      "flake8-3.7.9         | 128 KB    | ##################################### | 100% \n",
      "pytz-2019.3          | 237 KB    | ##################################### | 100% \n",
      "glob2-0.7            | 11 KB     | ##################################### | 100% \n",
      "backports.weakref-1. | 8 KB      | ##################################### | 100% \n",
      "chardet-3.0.4        | 167 KB    | ##################################### | 100% \n",
      "qtpy-1.9.0           | 34 KB     | ##################################### | 100% \n",
      "nose-1.3.7           | 214 KB    | ##################################### | 100% \n",
      "requests-2.22.0      | 84 KB     | ##################################### | 100% \n",
      "testpath-0.4.4       | 85 KB     | ##################################### | 100% \n",
      "intervaltree-3.0.2   | 23 KB     | ##################################### | 100% \n",
      "Preparing transaction: done\n",
      "Verifying transaction: done\n",
      "Executing transaction: | Enabling notebook extension jupyter-js-widgets/extension...\n",
      "      - Validating: \u001b[32mOK\u001b[0m\n",
      "\n",
      "done\n",
      "\n",
      "Note: you may need to restart the kernel to use updated packages.\n"
     ]
    }
   ],
   "source": [
    "conda update scikit-learn"
   ]
  },
  {
   "cell_type": "code",
   "execution_count": 12,
   "metadata": {},
   "outputs": [
    {
     "data": {
      "image/png": "[encoded data removed]",
      "text/plain": [
       "<Figure size 432x288 with 1 Axes>"
      ]
     },
     "metadata": {
      "needs_background": "light"
     },
     "output_type": "display_data"
    }
   ],
   "source": [
    "# check y_train data distribution and still have imbalance problem\n",
    "plot_y = pd.DataFrame(y_train, columns = ['Weather'])\n",
    "a = plot_y['Weather'].value_counts().plot(kind='bar')\n",
    "\n",
    "for i in a.patches:\n",
    "    a.text(i.get_x() + 0.18, i.get_height() + 100, str(round(i.get_height(), 2)), fontsize=10)"
   ]
  },
  {
   "cell_type": "markdown",
   "metadata": {},
   "source": [
    "# Dimension reduction (principle components analysis)"
   ]
  },
  {
   "cell_type": "code",
   "execution_count": 13,
   "metadata": {},
   "outputs": [],
   "source": [
    "# 降維度\n",
    "#from sklearn.decomposition import PCA\n",
    "#pca = PCA(17,random_state = 9527)\n",
    "#pca.fit(X_train_std)\n",
    "#X_train_std_pca = pca.transform(X_train_std)\n",
    "#X_test_std_pca = pca.transform(X_test_std)\n",
    "#X_val_std_pca = pca.transform(X_val_std)\n",
    "\n",
    "#X_train_std_pca.shape\n",
    "#X_test_std_pca.shape\n",
    "#X_val_std_pca.shape"
   ]
  },
  {
   "cell_type": "markdown",
   "metadata": {},
   "source": [
    "# SMOTE + Edited Nearest Neighbors (Oversampling + Undersampling)"
   ]
  },
  {
   "cell_type": "code",
   "execution_count": 14,
   "metadata": {},
   "outputs": [],
   "source": [
    "# deal with data imbalance training data\n",
    "# resampling\n",
    "from imblearn.over_sampling import BorderlineSMOTE\n",
    "\n",
    "sm = BorderlineSMOTE(random_state=42)\n",
    "X_train_std_sm,y_train_sm = sm.fit_resample(X_train_std,y_train)"
   ]
  },
  {
   "cell_type": "code",
   "execution_count": 15,
   "metadata": {},
   "outputs": [
    {
     "data": {
      "image/png": "[encoded data removed]",
      "text/plain": [
       "<Figure size 432x288 with 1 Axes>"
      ]
     },
     "metadata": {
      "needs_background": "light"
     },
     "output_type": "display_data"
    }
   ],
   "source": [
    "# check y_train_sm data distribution\n",
    "plot_y = pd.DataFrame(y_train_sm, columns = ['Weather'])\n",
    "b = plot_y['Weather'].value_counts().plot(kind='bar')\n",
    "\n",
    "for i in b.patches:\n",
    "    b.text(i.get_x() + 0.18, i.get_height() + 100, str(round(i.get_height(), 2)), fontsize=10)"
   ]
  },
  {
   "cell_type": "markdown",
   "metadata": {},
   "source": [
    "# Model training"
   ]
  },
  {
   "cell_type": "markdown",
   "metadata": {},
   "source": [
    "## Decision Tree"
   ]
  },
  {
   "cell_type": "code",
   "execution_count": 16,
   "metadata": {},
   "outputs": [
    {
     "name": "stdout",
     "output_type": "stream",
     "text": [
      "Accuracy: 0.816589\n",
      "Recall: 0.332629\n",
      "f1-score: 0.280999\n"
     ]
    }
   ],
   "source": [
    "from sklearn.tree import DecisionTreeClassifier\n",
    "from sklearn.metrics import accuracy_score, f1_score, recall_score\n",
    "\n",
    "#train tree model\n",
    "model = DecisionTreeClassifier()\n",
    "model.fit(X_train_std_sm,y_train_sm)\n",
    "\n",
    "#predict\n",
    "y_pred_decision = model.predict(X_val_std)\n",
    "print('Accuracy: %f' % accuracy_score(y_val, y_pred_decision))\n",
    "print('Recall: %f' % recall_score(y_val, y_pred_decision))\n",
    "print('f1-score: %f' % f1_score(y_val, y_pred_decision))"
   ]
  },
  {
   "cell_type": "code",
   "execution_count": 17,
   "metadata": {},
   "outputs": [
    {
     "data": {
      "image/png": "[encoded data removed]",
      "text/plain": [
       "<Figure size 576x432 with 2 Axes>"
      ]
     },
     "metadata": {
      "needs_background": "light"
     },
     "output_type": "display_data"
    }
   ],
   "source": [
    "# Plot confusion matrix\n",
    "from sklearn.metrics import confusion_matrix\n",
    "import seaborn as sns\n",
    "\n",
    "cm = confusion_matrix(y_val, y_pred_decision)\n",
    "plt.figure(figsize=(8, 6))\n",
    "plt.title('Confusion Matrix (with SMOTE)', size=16)\n",
    "sns.heatmap(cm, annot=True, cmap='Blues');"
   ]
  },
  {
   "cell_type": "code",
   "execution_count": 18,
   "metadata": {},
   "outputs": [],
   "source": [
    "# Output predicted weather data to csv\n",
    "ans_pred = model.predict(X_test_std)\n",
    "df_sap = pd.DataFrame(ans_pred.astype(int), columns = ['Weather'])\n",
    "df_sap.to_csv('myAns_DecisionTree.csv',  index_label = 'Id')"
   ]
  },
  {
   "cell_type": "markdown",
   "metadata": {},
   "source": [
    "## Random Forest (Great result)"
   ]
  },
  {
   "cell_type": "code",
   "execution_count": 19,
   "metadata": {},
   "outputs": [
    {
     "name": "stdout",
     "output_type": "stream",
     "text": [
      "Accuracy: 0.818182\n",
      "Recall: 0.574446\n",
      "f1-score: 0.405063\n"
     ]
    }
   ],
   "source": [
    "from sklearn.ensemble import RandomForestClassifier\n",
    "from sklearn.metrics import accuracy_score, f1_score, recall_score\n",
    "\n",
    "#train tree model\n",
    "model = RandomForestClassifier(n_estimators=100,random_state=9,max_depth=9,n_jobs=4)\n",
    "model.fit(X_train_std_sm,y_train_sm)\n",
    "\n",
    "#predict\n",
    "y_pred_decision = model.predict(X_val_std)\n",
    "print('Accuracy: %f' % accuracy_score(y_val, y_pred_decision))\n",
    "print('Recall: %f' % recall_score(y_val, y_pred_decision))\n",
    "print('f1-score: %f' % f1_score(y_val, y_pred_decision))"
   ]
  },
  {
   "cell_type": "code",
   "execution_count": 20,
   "metadata": {},
   "outputs": [
    {
     "data": {
      "image/png": "[encoded data removed]",
      "text/plain": [
       "<Figure size 576x432 with 2 Axes>"
      ]
     },
     "metadata": {
      "needs_background": "light"
     },
     "output_type": "display_data"
    }
   ],
   "source": [
    "# Plot confusion matrix\n",
    "from sklearn.metrics import confusion_matrix\n",
    "import seaborn as sns\n",
    "\n",
    "cm = confusion_matrix(y_val, y_pred_decision)\n",
    "plt.figure(figsize=(8, 6))\n",
    "plt.title('Confusion Matrix (with SMOTE)', size=16)\n",
    "sns.heatmap(cm, annot=True, cmap='Blues');"
   ]
  },
  {
   "cell_type": "code",
   "execution_count": 21,
   "metadata": {},
   "outputs": [],
   "source": [
    "# Output predicted weather data to csv\n",
    "ans_pred = model.predict(X_test_std)\n",
    "df_sap = pd.DataFrame(ans_pred.astype(int), columns = ['Weather'])\n",
    "df_sap.to_csv('myAns_RandomForest.csv',  index_label = 'Id')"
   ]
  },
  {
   "cell_type": "markdown",
   "metadata": {},
   "source": [
    "## SVM"
   ]
  },
  {
   "cell_type": "code",
   "execution_count": 22,
   "metadata": {},
   "outputs": [
    {
     "name": "stdout",
     "output_type": "stream",
     "text": [
      "Accuracy: 0.804528\n",
      "Recall: 0.620908\n",
      "f1-score: 0.406358\n"
     ]
    }
   ],
   "source": [
    "from sklearn.svm import SVC\n",
    "from sklearn.metrics import accuracy_score, f1_score, recall_score\n",
    "\n",
    "#train tree model\n",
    "model = SVC()\n",
    "model.fit(X_train_std_sm,y_train_sm)\n",
    "\n",
    "#predict\n",
    "y_pred_decision = model.predict(X_val_std)\n",
    "print('Accuracy: %f' % accuracy_score(y_val, y_pred_decision))\n",
    "print('Recall: %f' % recall_score(y_val, y_pred_decision))\n",
    "print('f1-score: %f' % f1_score(y_val, y_pred_decision))"
   ]
  },
  {
   "cell_type": "code",
   "execution_count": 23,
   "metadata": {},
   "outputs": [
    {
     "data": {
      "image/png": "[encoded data removed]",
      "text/plain": [
       "<Figure size 576x432 with 2 Axes>"
      ]
     },
     "metadata": {
      "needs_background": "light"
     },
     "output_type": "display_data"
    }
   ],
   "source": [
    "# Plot confusion matrix\n",
    "from sklearn.metrics import confusion_matrix\n",
    "import seaborn as sns\n",
    "\n",
    "cm = confusion_matrix(y_val, y_pred_decision)\n",
    "plt.figure(figsize=(8, 6))\n",
    "plt.title('Confusion Matrix (with SMOTE)', size=16)\n",
    "sns.heatmap(cm, annot=True, cmap='Blues');"
   ]
  },
  {
   "cell_type": "code",
   "execution_count": 24,
   "metadata": {},
   "outputs": [],
   "source": [
    "# Output predicted weather data to csv\n",
    "ans_pred = model.predict(X_test_std)\n",
    "df_sap = pd.DataFrame(ans_pred.astype(int), columns = ['Weather'])\n",
    "df_sap.to_csv('myAns_SVM.csv',  index_label = 'Id')"
   ]
  },
  {
   "cell_type": "markdown",
   "metadata": {},
   "source": [
    "## KNN"
   ]
  },
  {
   "cell_type": "code",
   "execution_count": 25,
   "metadata": {},
   "outputs": [
    {
     "name": "stdout",
     "output_type": "stream",
     "text": [
      "Accuracy: 0.690977\n",
      "Recall: 0.765576\n",
      "f1-score: 0.348056\n"
     ]
    }
   ],
   "source": [
    "from sklearn.neighbors import KNeighborsClassifier\n",
    "from sklearn.metrics import accuracy_score, f1_score, recall_score\n",
    "\n",
    "#train tree model\n",
    "model = KNeighborsClassifier(n_neighbors=25, weights='uniform')\n",
    "model.fit(X_train_std_sm,y_train_sm)\n",
    "\n",
    "#predict\n",
    "y_pred_decision = model.predict(X_val_std)\n",
    "print('Accuracy: %f' % accuracy_score(y_val, y_pred_decision))\n",
    "print('Recall: %f' % recall_score(y_val, y_pred_decision))\n",
    "print('f1-score: %f' % f1_score(y_val, y_pred_decision))"
   ]
  },
  {
   "cell_type": "code",
   "execution_count": 26,
   "metadata": {},
   "outputs": [
    {
     "data": {
      "image/png": "[encoded data removed]",
      "text/plain": [
       "<Figure size 576x432 with 2 Axes>"
      ]
     },
     "metadata": {
      "needs_background": "light"
     },
     "output_type": "display_data"
    }
   ],
   "source": [
    "# Plot confusion matrix\n",
    "from sklearn.metrics import confusion_matrix\n",
    "import seaborn as sns\n",
    "\n",
    "cm = confusion_matrix(y_val, y_pred_decision)\n",
    "plt.figure(figsize=(8, 6))\n",
    "plt.title('Confusion Matrix (with SMOTE)', size=16)\n",
    "sns.heatmap(cm, annot=True, cmap='Blues');"
   ]
  },
  {
   "cell_type": "code",
   "execution_count": 27,
   "metadata": {},
   "outputs": [],
   "source": [
    "# Output predicted weather data to csv\n",
    "ans_pred = model.predict(X_test_std)\n",
    "df_sap = pd.DataFrame(ans_pred.astype(int), columns = ['Weather'])\n",
    "df_sap.to_csv('myAns_KNN.csv',  index_label = 'Id')"
   ]
  },
  {
   "cell_type": "markdown",
   "metadata": {},
   "source": [
    "## Logistic Regression"
   ]
  },
  {
   "cell_type": "code",
   "execution_count": 28,
   "metadata": {},
   "outputs": [
    {
     "name": "stdout",
     "output_type": "stream",
     "text": [
      "Accuracy: 0.761179\n",
      "Recall: 0.706441\n",
      "f1-score: 0.389293\n"
     ]
    }
   ],
   "source": [
    "from sklearn.linear_model import LogisticRegression\n",
    "from sklearn.metrics import accuracy_score, f1_score, recall_score\n",
    "\n",
    "#train tree model\n",
    "model = LogisticRegression()\n",
    "model.fit(X_train_std_sm,y_train_sm)\n",
    "\n",
    "#predict\n",
    "y_pred_decision = model.predict(X_val_std)\n",
    "print('Accuracy: %f' % accuracy_score(y_val, y_pred_decision))\n",
    "print('Recall: %f' % recall_score(y_val, y_pred_decision))\n",
    "print('f1-score: %f' % f1_score(y_val, y_pred_decision))"
   ]
  },
  {
   "cell_type": "code",
   "execution_count": 29,
   "metadata": {},
   "outputs": [
    {
     "data": {
      "image/png": "[encoded data removed]",
      "text/plain": [
       "<Figure size 576x432 with 2 Axes>"
      ]
     },
     "metadata": {
      "needs_background": "light"
     },
     "output_type": "display_data"
    }
   ],
   "source": [
    "# Plot confusion matrix\n",
    "from sklearn.metrics import confusion_matrix\n",
    "import seaborn as sns\n",
    "\n",
    "cm = confusion_matrix(y_val, y_pred_decision)\n",
    "plt.figure(figsize=(8, 6))\n",
    "plt.title('Confusion Matrix (with SMOTE)', size=16)\n",
    "sns.heatmap(cm, annot=True, cmap='Blues');"
   ]
  },
  {
   "cell_type": "code",
   "execution_count": 30,
   "metadata": {},
   "outputs": [],
   "source": [
    "# Output predicted weather data to csv\n",
    "ans_pred = model.predict(X_test_std)\n",
    "df_sap = pd.DataFrame(ans_pred.astype(int), columns = ['Weather'])\n",
    "df_sap.to_csv('myAns_LR.csv',  index_label = 'Id')"
   ]
  },
  {
   "cell_type": "markdown",
   "metadata": {},
   "source": [
    "## Gaussian NB"
   ]
  },
  {
   "cell_type": "code",
   "execution_count": 31,
   "metadata": {},
   "outputs": [
    {
     "name": "stdout",
     "output_type": "stream",
     "text": [
      "Accuracy: 0.757765\n",
      "Recall: 0.673706\n",
      "f1-score: 0.374743\n"
     ]
    }
   ],
   "source": [
    "from sklearn.naive_bayes import GaussianNB\n",
    "from sklearn.metrics import accuracy_score, f1_score, recall_score\n",
    "\n",
    "#train tree model\n",
    "model = GaussianNB()\n",
    "model.fit(X_train_std_sm,y_train_sm)\n",
    "\n",
    "#predict\n",
    "y_pred_decision = model.predict(X_val_std)\n",
    "print('Accuracy: %f' % accuracy_score(y_val, y_pred_decision))\n",
    "print('Recall: %f' % recall_score(y_val, y_pred_decision))\n",
    "print('f1-score: %f' % f1_score(y_val, y_pred_decision))"
   ]
  },
  {
   "cell_type": "code",
   "execution_count": 32,
   "metadata": {},
   "outputs": [
    {
     "data": {
      "image/png": "[encoded data removed]",
      "text/plain": [
       "<Figure size 576x432 with 2 Axes>"
      ]
     },
     "metadata": {
      "needs_background": "light"
     },
     "output_type": "display_data"
    }
   ],
   "source": [
    "# Plot confusion matrix\n",
    "from sklearn.metrics import confusion_matrix\n",
    "import seaborn as sns\n",
    "\n",
    "cm = confusion_matrix(y_val, y_pred_decision)\n",
    "plt.figure(figsize=(8, 6))\n",
    "plt.title('Confusion Matrix (with SMOTE)', size=16)\n",
    "sns.heatmap(cm, annot=True, cmap='Blues');"
   ]
  },
  {
   "cell_type": "code",
   "execution_count": 33,
   "metadata": {},
   "outputs": [],
   "source": [
    "# Output predicted weather data to csv\n",
    "ans_pred = model.predict(X_test_std)\n",
    "df_sap = pd.DataFrame(ans_pred.astype(int), columns = ['Weather'])\n",
    "df_sap.to_csv('myAns_Gaussian NB.csv',  index_label = 'Id')"
   ]
  },
  {
   "cell_type": "markdown",
   "metadata": {},
   "source": [
    "## XGBoost"
   ]
  },
  {
   "cell_type": "code",
   "execution_count": 34,
   "metadata": {},
   "outputs": [],
   "source": [
    "#brew install gcc5"
   ]
  },
  {
   "cell_type": "code",
   "execution_count": 35,
   "metadata": {},
   "outputs": [
    {
     "name": "stdout",
     "output_type": "stream",
     "text": [
      "Requirement already satisfied: xgboost in /Users/samjanity996/opt/anaconda3/lib/python3.7/site-packages (1.4.1)\n",
      "Requirement already satisfied: numpy in /Users/samjanity996/opt/anaconda3/lib/python3.7/site-packages (from xgboost) (1.18.1)\n",
      "Requirement already satisfied: scipy in /Users/samjanity996/opt/anaconda3/lib/python3.7/site-packages (from xgboost) (1.4.1)\n",
      "Note: you may need to restart the kernel to use updated packages.\n"
     ]
    }
   ],
   "source": [
    "pip install xgboost"
   ]
  },
  {
   "cell_type": "code",
   "execution_count": 36,
   "metadata": {},
   "outputs": [],
   "source": [
    "#brew install libomp"
   ]
  },
  {
   "cell_type": "code",
   "execution_count": 37,
   "metadata": {},
   "outputs": [],
   "source": [
    "#找參數\n",
    "#from sklearn.model_selection import GridSearchCV\n",
    "\n",
    "#param_dist = {\"max_depth\": [10,30,50],\"min_child_weight\" : [1,3,6],\"n_estimators\": [200],\"learning_rate\": [0.05, 0.1,0.16],}\n",
    "#grid_search = GridSearchCV(XGBClassifier(), param_grid=param_dist, cv = 3, verbose=10, n_jobs=8, scoring='f1')\n",
    "#grid_search.fit(X_train_std_sm, y_train_sm)"
   ]
  },
  {
   "cell_type": "code",
   "execution_count": 38,
   "metadata": {},
   "outputs": [],
   "source": [
    "#grid_search.best_estimator_"
   ]
  },
  {
   "cell_type": "code",
   "execution_count": 39,
   "metadata": {},
   "outputs": [
    {
     "name": "stdout",
     "output_type": "stream",
     "text": [
      "[20:39:00] WARNING: /Users/travis/build/dmlc/xgboost/src/learner.cc:1095: Starting in XGBoost 1.3.0, the default evaluation metric used with the objective 'binary:logistic' was changed from 'error' to 'logloss'. Explicitly set eval_metric if you'd like to restore the old behavior.\n",
      "Accuracy: 0.859028\n",
      "Recall: 0.524815\n",
      "f1-score: 0.445141\n"
     ]
    }
   ],
   "source": [
    "from xgboost import XGBClassifier\n",
    "from sklearn.metrics import accuracy_score, f1_score, recall_score\n",
    "\n",
    "#train tree model\n",
    "model = XGBClassifier(base_score=0.5, booster='gbtree', colsample_bylevel=1,\n",
    "              colsample_bynode=1, colsample_bytree=1, gamma=0, gpu_id=-1,\n",
    "              importance_type='gain', interaction_constraints='',\n",
    "              learning_rate=0.05, max_delta_step=0, max_depth=10,\n",
    "              min_child_weight=1, monotone_constraints='()',\n",
    "              n_estimators=200, n_jobs=8, num_parallel_tree=1, random_state=0,\n",
    "              reg_alpha=0, reg_lambda=1, scale_pos_weight=6, subsample=1,\n",
    "              tree_method='exact', validate_parameters=1, verbosity=None,use_label_encoder=False)\n",
    "model.fit(X_train_std_sm,y_train_sm)\n",
    "\n",
    "\n",
    "#predict\n",
    "y_pred_decision = model.predict(X_val_std)\n",
    "print('Accuracy: %f' % accuracy_score(y_val, y_pred_decision))\n",
    "print('Recall: %f' % recall_score(y_val, y_pred_decision))\n",
    "print('f1-score: %f' % f1_score(y_val, y_pred_decision))"
   ]
  },
  {
   "cell_type": "code",
   "execution_count": 40,
   "metadata": {},
   "outputs": [
    {
     "data": {
      "image/png": "[encoded data removed]",
      "text/plain": [
       "<Figure size 576x432 with 2 Axes>"
      ]
     },
     "metadata": {
      "needs_background": "light"
     },
     "output_type": "display_data"
    }
   ],
   "source": [
    "# Plot confusion matrix\n",
    "from sklearn.metrics import confusion_matrix\n",
    "import seaborn as sns\n",
    "\n",
    "cm = confusion_matrix(y_val, y_pred_decision)\n",
    "plt.figure(figsize=(8, 6))\n",
    "plt.title('Confusion Matrix (with SMOTE)', size=16)\n",
    "sns.heatmap(cm, annot=True, cmap='Blues');"
   ]
  },
  {
   "cell_type": "code",
   "execution_count": 41,
   "metadata": {},
   "outputs": [
    {
     "name": "stderr",
     "output_type": "stream",
     "text": [
      "/Users/samjanity996/opt/anaconda3/lib/python3.7/site-packages/xgboost/data.py:114: UserWarning: Use subset (sliced data) of np.ndarray is not recommended because it will generate extra copies and increase memory consumption\n",
      "  \"because it will generate extra copies and increase \" +\n"
     ]
    }
   ],
   "source": [
    "# Output predicted weather data to csv\n",
    "ans_pred = model.predict(X_test_std)\n",
    "df_sap = pd.DataFrame(ans_pred.astype(int), columns = ['Weather'])\n",
    "df_sap.to_csv('myAns_XGBoost.csv',  index_label = 'Id')"
   ]
  },
  {
   "cell_type": "markdown",
   "metadata": {},
   "source": [
    "## Light GBM (The best result)"
   ]
  },
  {
   "cell_type": "code",
   "execution_count": 42,
   "metadata": {},
   "outputs": [
    {
     "name": "stdout",
     "output_type": "stream",
     "text": [
      "Collecting package metadata (current_repodata.json): done\n",
      "Solving environment: done\n",
      "\n",
      "# All requested packages already installed.\n",
      "\n",
      "\n",
      "Note: you may need to restart the kernel to use updated packages.\n"
     ]
    }
   ],
   "source": [
    "conda install lightgbm"
   ]
  },
  {
   "cell_type": "code",
   "execution_count": 43,
   "metadata": {},
   "outputs": [],
   "source": [
    "#找參數\n",
    "#from sklearn.model_selection import GridSearchCV\n",
    "\n",
    "#param_dist = {\"max_depth\": [13],\"learning_rate\" : [0.01,0.05,0.1],\"num_leaves\": [10,100],\"n_estimators\": [100,1000]}\n",
    "#grid_search = GridSearchCV(lgb.LGBMClassifier(), n_jobs=8, param_grid=param_dist, cv = 3, scoring=\"f1\", verbose=5)\n",
    "#grid_search.fit(X_train_std,y_train)\n",
    "#grid_search.best_estimator_"
   ]
  },
  {
   "cell_type": "code",
   "execution_count": 44,
   "metadata": {},
   "outputs": [
    {
     "name": "stderr",
     "output_type": "stream",
     "text": [
      "/Users/samjanity996/opt/anaconda3/lib/python3.7/site-packages/lightgbm/__init__.py:48: UserWarning: Starting from version 2.2.1, the library file in distribution wheels for macOS is built by the Apple Clang (Xcode_8.3.3) compiler.\n",
      "This means that in case of installing LightGBM from PyPI via the ``pip install lightgbm`` command, you don't need to install the gcc compiler anymore.\n",
      "Instead of that, you need to install the OpenMP library, which is required for running LightGBM on the system with the Apple Clang compiler.\n",
      "You can install the OpenMP library by the following command: ``brew install libomp``.\n",
      "  \"You can install the OpenMP library by the following command: ``brew install libomp``.\", UserWarning)\n"
     ]
    },
    {
     "name": "stdout",
     "output_type": "stream",
     "text": [
      "Accuracy: 0.844237\n",
      "Recall: 0.635692\n",
      "f1-score: 0.467936\n"
     ]
    }
   ],
   "source": [
    "import lightgbm as lgb\n",
    "from sklearn.metrics import accuracy_score, f1_score, recall_score\n",
    "\n",
    "#train tree model\n",
    "model = lgb.LGBMClassifier(max_depth=12, n_estimators=203, scale_pos_weight=4, num_leaves=21)\n",
    "model.fit(X_train_std_sm,y_train_sm)\n",
    "\n",
    "\n",
    "#predict\n",
    "y_pred_decision = model.predict(X_val_std)\n",
    "print('Accuracy: %f' % accuracy_score(y_val, y_pred_decision))\n",
    "print('Recall: %f' % recall_score(y_val, y_pred_decision))\n",
    "print('f1-score: %f' % f1_score(y_val, y_pred_decision))"
   ]
  },
  {
   "cell_type": "code",
   "execution_count": 45,
   "metadata": {},
   "outputs": [
    {
     "data": {
      "text/plain": [
       "<matplotlib.axes._subplots.AxesSubplot at 0x7f8ed99d25d0>"
      ]
     },
     "execution_count": 45,
     "metadata": {},
     "output_type": "execute_result"
    },
    {
     "data": {
      "image/png": "[encoded data removed]",
      "text/plain": [
       "<Figure size 576x432 with 2 Axes>"
      ]
     },
     "metadata": {
      "needs_background": "light"
     },
     "output_type": "display_data"
    }
   ],
   "source": [
    "# Plot confusion matrix\n",
    "from sklearn.metrics import confusion_matrix\n",
    "import seaborn as sns\n",
    "\n",
    "cm = confusion_matrix(y_val, y_pred_decision)\n",
    "plt.figure(figsize=(8, 6))\n",
    "plt.title('Confusion Matrix (with SMOTE)', size=16)\n",
    "sns.heatmap(cm, annot=True, cmap='Blues')"
   ]
  },
  {
   "cell_type": "code",
   "execution_count": 46,
   "metadata": {},
   "outputs": [],
   "source": [
    "# Output predicted weather data to csv\n",
    "ans_pred = model.predict(X_test_std)\n",
    "df_sap = pd.DataFrame(ans_pred.astype(int), columns = ['Weather'])\n",
    "df_sap.to_csv('myAns_LightGBM.csv',  index_label = 'Id')"
   ]
  },
  {
   "cell_type": "code",
   "execution_count": null,
   "metadata": {},
   "outputs": [],
   "source": []
  }
 ],
 "metadata": {
  "kernelspec": {
   "display_name": "Python 3",
   "language": "python",
   "name": "python3"
  },
  "language_info": {
   "codemirror_mode": {
    "name": "ipython",
    "version": 3
   },
   "file_extension": ".py",
   "mimetype": "text/x-python",
   "name": "python",
   "nbconvert_exporter": "python",
   "pygments_lexer": "ipython3",
   "version": "3.7.6"
  }
 },
 "nbformat": 4,
 "nbformat_minor": 2
}
